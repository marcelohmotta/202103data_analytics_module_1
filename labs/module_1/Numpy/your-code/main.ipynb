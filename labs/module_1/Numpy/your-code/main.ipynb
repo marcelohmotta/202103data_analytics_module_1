{
 "cells": [
  {
   "cell_type": "markdown",
   "metadata": {
    "Collapsed": "false"
   },
   "source": [
    "# Intrduction to NumPy\n",
    "\n",
    "\n",
    "#### 1. Import NumPy under the name np."
   ]
  },
  {
   "cell_type": "code",
   "execution_count": 1,
   "metadata": {
    "Collapsed": "false"
   },
   "outputs": [],
   "source": [
    "# your code here\n",
    "import numpy as np "
   ]
  },
  {
   "cell_type": "markdown",
   "metadata": {
    "Collapsed": "false"
   },
   "source": [
    "#### 2. Print your NumPy version."
   ]
  },
  {
   "cell_type": "code",
   "execution_count": 2,
   "metadata": {
    "Collapsed": "false"
   },
   "outputs": [
    {
     "name": "stdout",
     "output_type": "stream",
     "text": [
      "1.20.2\n"
     ]
    }
   ],
   "source": [
    "# your code here\n",
    "print(np.version.version)"
   ]
  },
  {
   "cell_type": "markdown",
   "metadata": {
    "Collapsed": "false"
   },
   "source": [
    "#### 3. Generate a 2x3x5 3-dimensional array with random values. Assign the array to variable *a*.\n",
    "**Challenge**: there are at least three easy ways that use numpy to generate random arrays. How many ways can you find?"
   ]
  },
  {
   "cell_type": "code",
   "execution_count": 4,
   "metadata": {
    "Collapsed": "false"
   },
   "outputs": [
    {
     "name": "stdout",
     "output_type": "stream",
     "text": [
      "[[[0 4 0 2 7]\n",
      "  [6 4 5 2 9]\n",
      "  [1 2 1 4 0]]\n",
      "\n",
      " [[8 6 6 8 5]\n",
      "  [5 2 8 4 7]\n",
      "  [2 5 6 4 6]]]\n"
     ]
    }
   ],
   "source": [
    "# Method 1\n",
    "a = np.random.randint(10, size = (2,3,5));\n",
    "print(a)"
   ]
  },
  {
   "cell_type": "code",
   "execution_count": 5,
   "metadata": {
    "Collapsed": "false"
   },
   "outputs": [
    {
     "name": "stdout",
     "output_type": "stream",
     "text": [
      "[[[0.06715291 0.89709956 0.07242282 0.54473082 0.98805613]\n",
      "  [0.77972617 0.34802693 0.98500419 0.24895564 0.62244743]\n",
      "  [0.51807226 0.01951266 0.16404963 0.94027702 0.91647529]]\n",
      "\n",
      " [[0.20711113 0.77430931 0.70491304 0.61959729 0.35500676]\n",
      "  [0.22900664 0.73987708 0.37841203 0.9991683  0.81254736]\n",
      "  [0.70546624 0.28621719 0.99761913 0.19488393 0.37793517]]]\n"
     ]
    }
   ],
   "source": [
    "# Method 2\n",
    "a = np.random.rand(2,3,5);\n",
    "print(a)"
   ]
  },
  {
   "cell_type": "code",
   "execution_count": 6,
   "metadata": {
    "Collapsed": "false"
   },
   "outputs": [
    {
     "name": "stdout",
     "output_type": "stream",
     "text": [
      "[[[0.84085878 0.3671365  0.85637616 0.45543202 0.28279079]\n",
      "  [0.50321584 0.86741011 0.59407466 0.62507023 0.51241549]\n",
      "  [0.05922241 0.97701893 0.56664866 0.36699207 0.9861831 ]]\n",
      "\n",
      " [[0.84154645 0.48606431 0.70371748 0.58694919 0.86925658]\n",
      "  [0.9946475  0.46560419 0.79078084 0.18343071 0.46460953]\n",
      "  [0.04638572 0.02614254 0.96422169 0.025988   0.03311079]]]\n"
     ]
    }
   ],
   "source": [
    "# Method 3\n",
    "a = np.random.random((2,3,5));\n",
    "print(a)"
   ]
  },
  {
   "cell_type": "markdown",
   "metadata": {
    "Collapsed": "false"
   },
   "source": [
    "#### 4. Print *a*.\n"
   ]
  },
  {
   "cell_type": "code",
   "execution_count": null,
   "metadata": {
    "Collapsed": "false"
   },
   "outputs": [],
   "source": [
    "# your code here"
   ]
  },
  {
   "cell_type": "markdown",
   "metadata": {
    "Collapsed": "false"
   },
   "source": [
    "#### 5. Create a 5x2x3 3-dimensional array with all values equaling 1. Assign the array to variable *b*."
   ]
  },
  {
   "cell_type": "code",
   "execution_count": 8,
   "metadata": {
    "Collapsed": "false"
   },
   "outputs": [],
   "source": [
    "# your code here\n",
    "b = np.ones((5,2,3));"
   ]
  },
  {
   "cell_type": "markdown",
   "metadata": {
    "Collapsed": "false"
   },
   "source": [
    "#### 6. Print *b*.\n"
   ]
  },
  {
   "cell_type": "code",
   "execution_count": 9,
   "metadata": {
    "Collapsed": "false"
   },
   "outputs": [
    {
     "name": "stdout",
     "output_type": "stream",
     "text": [
      "[[[1. 1. 1.]\n",
      "  [1. 1. 1.]]\n",
      "\n",
      " [[1. 1. 1.]\n",
      "  [1. 1. 1.]]\n",
      "\n",
      " [[1. 1. 1.]\n",
      "  [1. 1. 1.]]\n",
      "\n",
      " [[1. 1. 1.]\n",
      "  [1. 1. 1.]]\n",
      "\n",
      " [[1. 1. 1.]\n",
      "  [1. 1. 1.]]]\n"
     ]
    }
   ],
   "source": [
    "# your code here\n",
    "print(b)"
   ]
  },
  {
   "cell_type": "markdown",
   "metadata": {
    "Collapsed": "false"
   },
   "source": [
    "#### 7. Do *a* and *b* have the same size? How do you prove that in Python code?"
   ]
  },
  {
   "cell_type": "code",
   "execution_count": 10,
   "metadata": {
    "Collapsed": "false"
   },
   "outputs": [
    {
     "name": "stdout",
     "output_type": "stream",
     "text": [
      "True\n"
     ]
    }
   ],
   "source": [
    "# your code here\n",
    "\n",
    "print(a.size == b.size)"
   ]
  },
  {
   "cell_type": "markdown",
   "metadata": {
    "Collapsed": "false"
   },
   "source": [
    "#### 8. Are you able to add *a* and *b*? Why or why not?\n"
   ]
  },
  {
   "cell_type": "code",
   "execution_count": 11,
   "metadata": {
    "Collapsed": "false"
   },
   "outputs": [
    {
     "name": "stdout",
     "output_type": "stream",
     "text": [
      "False\n"
     ]
    }
   ],
   "source": [
    "# your answer here\n",
    "#Only numpy arrays having similar shape can be added \n",
    "\n",
    "print(a.shape == b.shape)"
   ]
  },
  {
   "cell_type": "markdown",
   "metadata": {
    "Collapsed": "false"
   },
   "source": [
    "#### 9. Transpose *b* so that it has the same structure of *a* (i.e. become a 2x3x5 array). Assign the transposed array to variable *c*."
   ]
  },
  {
   "cell_type": "code",
   "execution_count": 15,
   "metadata": {
    "Collapsed": "false"
   },
   "outputs": [
    {
     "name": "stdout",
     "output_type": "stream",
     "text": [
      "(2, 3, 5) - (5, 2, 3)\n",
      "--------------------------\n",
      "(2, 3, 5) - (2, 3, 5)\n"
     ]
    }
   ],
   "source": [
    "# your code here\n",
    "\n",
    "print(a.shape, '-', b.shape)\n",
    "\n",
    "print(\"--------------------------\")\n",
    "    \n",
    "c = np.transpose(b, [1, 2, 0]);\n",
    "print(a.shape, '-', c.shape)\n"
   ]
  },
  {
   "cell_type": "markdown",
   "metadata": {
    "Collapsed": "false"
   },
   "source": [
    "#### 10. Try to add *a* and *c*. Now it should work. Assign the sum to variable *d*. But why does it work now?"
   ]
  },
  {
   "cell_type": "code",
   "execution_count": 16,
   "metadata": {
    "Collapsed": "false"
   },
   "outputs": [
    {
     "name": "stdout",
     "output_type": "stream",
     "text": [
      "[[[1.84085878 1.3671365  1.85637616 1.45543202 1.28279079]\n",
      "  [1.50321584 1.86741011 1.59407466 1.62507023 1.51241549]\n",
      "  [1.05922241 1.97701893 1.56664866 1.36699207 1.9861831 ]]\n",
      "\n",
      " [[1.84154645 1.48606431 1.70371748 1.58694919 1.86925658]\n",
      "  [1.9946475  1.46560419 1.79078084 1.18343071 1.46460953]\n",
      "  [1.04638572 1.02614254 1.96422169 1.025988   1.03311079]]]\n"
     ]
    }
   ],
   "source": [
    "# your code/answer here\n",
    "\n",
    "d = np.add(a,c)\n",
    "print(d)"
   ]
  },
  {
   "cell_type": "markdown",
   "metadata": {
    "Collapsed": "false"
   },
   "source": [
    "#### 11. Print *a* and *d*. Notice the difference and relation of the two array in terms of the values? Explain."
   ]
  },
  {
   "cell_type": "code",
   "execution_count": 18,
   "metadata": {
    "Collapsed": "false"
   },
   "outputs": [
    {
     "name": "stdout",
     "output_type": "stream",
     "text": [
      "A\n",
      "[[[0.84085878 0.3671365  0.85637616 0.45543202 0.28279079]\n",
      "  [0.50321584 0.86741011 0.59407466 0.62507023 0.51241549]\n",
      "  [0.05922241 0.97701893 0.56664866 0.36699207 0.9861831 ]]\n",
      "\n",
      " [[0.84154645 0.48606431 0.70371748 0.58694919 0.86925658]\n",
      "  [0.9946475  0.46560419 0.79078084 0.18343071 0.46460953]\n",
      "  [0.04638572 0.02614254 0.96422169 0.025988   0.03311079]]]\n",
      "----------------------------------------------------------------------------\n",
      "D\n",
      "[[[1.84085878 1.3671365  1.85637616 1.45543202 1.28279079]\n",
      "  [1.50321584 1.86741011 1.59407466 1.62507023 1.51241549]\n",
      "  [1.05922241 1.97701893 1.56664866 1.36699207 1.9861831 ]]\n",
      "\n",
      " [[1.84154645 1.48606431 1.70371748 1.58694919 1.86925658]\n",
      "  [1.9946475  1.46560419 1.79078084 1.18343071 1.46460953]\n",
      "  [1.04638572 1.02614254 1.96422169 1.025988   1.03311079]]]\n"
     ]
    }
   ],
   "source": [
    "# your code/answer here\n",
    "\n",
    "print(\"A\")\n",
    "print(a)\n",
    "print(\"----------------------------------------------------------------------------\")\n",
    "print(\"D\")\n",
    "print(d)"
   ]
  },
  {
   "cell_type": "markdown",
   "metadata": {
    "Collapsed": "false"
   },
   "source": [
    "#### 12. Multiply *a* and *c*. Assign the result to *e*."
   ]
  },
  {
   "cell_type": "code",
   "execution_count": 19,
   "metadata": {
    "Collapsed": "false"
   },
   "outputs": [
    {
     "name": "stdout",
     "output_type": "stream",
     "text": [
      "[[[0.84085878 0.3671365  0.85637616 0.45543202 0.28279079]\n",
      "  [0.50321584 0.86741011 0.59407466 0.62507023 0.51241549]\n",
      "  [0.05922241 0.97701893 0.56664866 0.36699207 0.9861831 ]]\n",
      "\n",
      " [[0.84154645 0.48606431 0.70371748 0.58694919 0.86925658]\n",
      "  [0.9946475  0.46560419 0.79078084 0.18343071 0.46460953]\n",
      "  [0.04638572 0.02614254 0.96422169 0.025988   0.03311079]]]\n"
     ]
    }
   ],
   "source": [
    "# your code here\n",
    "\n",
    "e = np.multiply(a,c)\n",
    "print(e)"
   ]
  },
  {
   "cell_type": "markdown",
   "metadata": {
    "Collapsed": "false"
   },
   "source": [
    "#### 13. Does *e* equal to *a*? Why or why not?\n"
   ]
  },
  {
   "cell_type": "code",
   "execution_count": 20,
   "metadata": {
    "Collapsed": "false"
   },
   "outputs": [
    {
     "name": "stdout",
     "output_type": "stream",
     "text": [
      "[[[ True  True  True  True  True]\n",
      "  [ True  True  True  True  True]\n",
      "  [ True  True  True  True  True]]\n",
      "\n",
      " [[ True  True  True  True  True]\n",
      "  [ True  True  True  True  True]\n",
      "  [ True  True  True  True  True]]]\n"
     ]
    }
   ],
   "source": [
    "# your code/answer here\n",
    "print(a == e)"
   ]
  },
  {
   "cell_type": "markdown",
   "metadata": {
    "Collapsed": "false"
   },
   "source": [
    "#### 14. Identify the max, min, and mean values in *d*. Assign those values to variables *d_max*, *d_min* and *d_mean*."
   ]
  },
  {
   "cell_type": "code",
   "execution_count": 26,
   "metadata": {
    "Collapsed": "false"
   },
   "outputs": [
    {
     "name": "stdout",
     "output_type": "stream",
     "text": [
      "Max:   1.99\n",
      "Min:   1.03\n",
      "Mean:  1.54\n"
     ]
    }
   ],
   "source": [
    "# your code here\n",
    "\n",
    "d_max = d.max()\n",
    "d_min = d.min()\n",
    "d_mean = d.mean()\n",
    "\n",
    "print(\"Max:  \", round(d_max, 2))\n",
    "print(\"Min:  \", round(d_min, 2))\n",
    "print(\"Mean: \", round(d_mean, 2))\n"
   ]
  },
  {
   "cell_type": "markdown",
   "metadata": {
    "Collapsed": "false"
   },
   "source": [
    "#### 15. Now we want to label the values in *d*. First create an empty array *f* with the same shape (i.e. 2x3x5) as *d* using `np.empty`.\n"
   ]
  },
  {
   "cell_type": "code",
   "execution_count": 27,
   "metadata": {
    "Collapsed": "false"
   },
   "outputs": [],
   "source": [
    "# your code here\n",
    "\n",
    "f = np.empty((2, 3, 5), dtype=np.int8)"
   ]
  },
  {
   "cell_type": "markdown",
   "metadata": {
    "Collapsed": "false"
   },
   "source": [
    "#### 16. Populate the values in *f*. \n",
    "\n",
    "For each value in *d*, if it's larger than *d_min* but smaller than *d_mean*, assign 25 to the corresponding value in *f*. If a value in *d* is larger than *d_mean* but smaller than *d_max*, assign 75 to the corresponding value in *f*. If a value equals to *d_mean*, assign 50 to the corresponding value in *f*. Assign 0 to the corresponding value(s) in *f* for *d_min* in *d*. Assign 100 to the corresponding value(s) in *f* for *d_max* in *d*. In the end, f should have only the following values: 0, 25, 50, 75, and 100.\n",
    "\n",
    "**Note**: you don't have to use Numpy in this question."
   ]
  },
  {
   "cell_type": "code",
   "execution_count": 28,
   "metadata": {
    "Collapsed": "false"
   },
   "outputs": [],
   "source": [
    "# your code here\n",
    "\n",
    "it = np.nditer(d, flags=['multi_index']);\n",
    "while not it.finished:\n",
    "    if it[0] == d_min:\n",
    "        f[it.multi_index] = 0;\n",
    "    elif it[0] > d_min and it[0] < d_mean:\n",
    "        f[it.multi_index] = 25;\n",
    "    elif it[0] == d_mean:\n",
    "        f[it.multi_index] = 50;\n",
    "    elif it[0] > d_mean and it[0] < d_max:\n",
    "        f[it.multi_index] = 75;\n",
    "    else:\n",
    "        f[it.multi_index] = 100;\n",
    "    it.iternext()"
   ]
  },
  {
   "cell_type": "markdown",
   "metadata": {
    "Collapsed": "false"
   },
   "source": [
    "#### 17. Print *d* and *f*. Do you have your expected *f*?\n",
    "For instance, if your *d* is:\n",
    "```python\n",
    "[[[1.85836099, 1.67064465, 1.62576044, 1.40243961, 1.88454931],\n",
    "[1.75354326, 1.69403643, 1.36729252, 1.61415071, 1.12104981],\n",
    "[1.72201435, 1.1862918 , 1.87078449, 1.7726778 , 1.88180042]],\n",
    "[[1.44747908, 1.31673383, 1.02000951, 1.52218947, 1.97066381],\n",
    "[1.79129243, 1.74983003, 1.96028037, 1.85166831, 1.65450881],\n",
    "[1.18068344, 1.9587381 , 1.00656599, 1.93402165, 1.73514584]]]\n",
    "```\n",
    "Your *f* should be:\n",
    "```python\n",
    "[[[ 75.,  75.,  75.,  25.,  75.],\n",
    "[ 75.,  75.,  25.,  25.,  25.],\n",
    "[ 75.,  25.,  75.,  75.,  75.]],\n",
    "[[ 25.,  25.,  25.,  25., 100.],\n",
    "[ 75.,  75.,  75.,  75.,  75.],\n",
    "[ 25.,  75.,   0.,  75.,  75.]]]\n",
    "```"
   ]
  },
  {
   "cell_type": "code",
   "execution_count": 29,
   "metadata": {
    "Collapsed": "false"
   },
   "outputs": [
    {
     "name": "stdout",
     "output_type": "stream",
     "text": [
      "D\n",
      "[[[1.84085878 1.3671365  1.85637616 1.45543202 1.28279079]\n",
      "  [1.50321584 1.86741011 1.59407466 1.62507023 1.51241549]\n",
      "  [1.05922241 1.97701893 1.56664866 1.36699207 1.9861831 ]]\n",
      "\n",
      " [[1.84154645 1.48606431 1.70371748 1.58694919 1.86925658]\n",
      "  [1.9946475  1.46560419 1.79078084 1.18343071 1.46460953]\n",
      "  [1.04638572 1.02614254 1.96422169 1.025988   1.03311079]]]\n",
      "----------------------------------------------------------------------------\n",
      "F\n",
      "[[[ 75  25  75  25  25]\n",
      "  [ 25  75  75  75  25]\n",
      "  [ 25  75  75  25  75]]\n",
      "\n",
      " [[ 75  25  75  75  75]\n",
      "  [100  25  75  25  25]\n",
      "  [ 25  25  75   0  25]]]\n"
     ]
    }
   ],
   "source": [
    "# your code here\n",
    "\n",
    "print(\"D\");\n",
    "print(d);\n",
    "print(\"----------------------------------------------------------------------------\")\n",
    "print(\"F\");\n",
    "print(f);"
   ]
  },
  {
   "cell_type": "markdown",
   "metadata": {
    "Collapsed": "false"
   },
   "source": [
    "#### 18. Bonus question: instead of using numbers (i.e. 0, 25, 50, 75, and 100), use string values  (\"A\", \"B\", \"C\", \"D\", and \"E\") to label the array elements. For the example above, the expected result is:\n",
    "\n",
    "```python\n",
    "[[[ 'D',  'D',  'D',  'B',  'D'],\n",
    "[ 'D',  'D',  'B',  'B',  'B'],\n",
    "[ 'D',  'B',  'D',  'D',  'D']],\n",
    "[[ 'B',  'B',  'B',  'B',  'E'],\n",
    "[ 'D',  'D',  'D',  'D',  'D'],\n",
    "[ 'B',  'D',   'A',  'D', 'D']]]\n",
    "```\n",
    "**Note**: you don't have to use Numpy in this question."
   ]
  },
  {
   "cell_type": "code",
   "execution_count": null,
   "metadata": {
    "Collapsed": "false"
   },
   "outputs": [],
   "source": [
    "# your code here"
   ]
  }
 ],
 "metadata": {
  "kernelspec": {
   "display_name": "Python 3",
   "language": "python",
   "name": "python3"
  },
  "language_info": {
   "codemirror_mode": {
    "name": "ipython",
    "version": 3
   },
   "file_extension": ".py",
   "mimetype": "text/x-python",
   "name": "python",
   "nbconvert_exporter": "python",
   "pygments_lexer": "ipython3",
   "version": "3.9.2"
  }
 },
 "nbformat": 4,
 "nbformat_minor": 4
}
